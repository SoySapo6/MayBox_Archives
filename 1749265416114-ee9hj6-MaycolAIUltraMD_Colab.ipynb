{
 "cells": [
  {
   "cell_type": "markdown",
   "id": "637e9d2a",
   "metadata": {},
   "source": [
    "# ⊹˚₊ MaycolAIUltraMD ₊˚⊹\n",
    "![Banner](https://files.catbox.moe/8iqvp8.gif)\n",
    "\n",
    "¡Hola! Bienvenido al Colab oficial para usar **MaycolAIUltraMD** (⁠｡⁠•̀⁠ᴗ⁠-⁠)⁠✧\n",
    "Este notebook te ayudará a instalar, ejecutar y actualizar el bot fácilmente. ❤️\n",
    "\n",
    "> Asegúrate de estar usando un entorno con Node.js y acceso a comandos Linux."
   ]
  },
  {
   "cell_type": "markdown",
   "id": "411e298e",
   "metadata": {},
   "source": [
    "## 🚀 Instalación\n",
    "Instalamos el proyecto y sus dependencias:"
   ]
  },
  {
   "cell_type": "code",
   "execution_count": null,
   "id": "eabaa0a3",
   "metadata": {},
   "outputs": [],
   "source": [
    "!git clone https://github.com/SoySapo6/MaycolAIUltraMD.git\n",
    "%cd MaycolAIUltraMD\n",
    "!npm install\n",
    "!npm update"
   ]
  },
  {
   "cell_type": "markdown",
   "id": "0f2c9d15",
   "metadata": {},
   "source": [
    "## ▶️ Ejecutar el bot\n",
    "Iniciamos el bot en modo normal:"
   ]
  },
  {
   "cell_type": "code",
   "execution_count": null,
   "id": "578f0323",
   "metadata": {},
   "outputs": [],
   "source": [
    "%cd MaycolAIUltraMD\n",
    "!npm start"
   ]
  },
  {
   "cell_type": "markdown",
   "id": "c46686cc",
   "metadata": {},
   "source": [
    "## 🔄 Actualizar\n",
    "Por si quieres traer los últimos cambios del repositorio:"
   ]
  },
  {
   "cell_type": "code",
   "execution_count": null,
   "id": "2e8ad787",
   "metadata": {},
   "outputs": [],
   "source": [
    "%cd MaycolAIUltraMD\n",
    "!git pull"
   ]
  },
  {
   "cell_type": "markdown",
   "id": "76d3c63a",
   "metadata": {},
   "source": [
    "## 🌐 Créditos y Enlaces\n",
    "Este proyecto fue desarrollado por [SoySapo6](https://github.com/SoySapo6) con mucho cariño.\n",
    "[Canal Oficial](https://whatsapp.com/channel/0029VayXJte65yD6LQGiRB0R) | [Grupo Oficial](https://chat.whatsapp.com/EprzCjr7XFyAIFr9OfBh2o) | [NightAPI](https://nightapioficial.onrender.com/)\n",
    "\n",
    "> ¡Gracias por usar MaycolAIUltraMD! ✨\n",
    "\n",
    "⊂(⁠(⁠・⁠▽⁠・⁠)⁠)⁠⊃"
   ]
  }
 ],
 "metadata": {},
 "nbformat": 4,
 "nbformat_minor": 5
}